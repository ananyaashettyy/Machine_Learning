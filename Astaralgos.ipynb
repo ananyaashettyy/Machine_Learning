{
 "cells": [
  {
   "cell_type": "code",
   "execution_count": 6,
   "id": "57103f1b",
   "metadata": {},
   "outputs": [
    {
     "name": "stdout",
     "output_type": "stream",
     "text": [
      "Path found: ['A', 'F', 'G', 'I', 'J']\n"
     ]
    },
    {
     "data": {
      "text/plain": [
       "['A', 'F', 'G', 'I', 'J']"
      ]
     },
     "execution_count": 6,
     "metadata": {},
     "output_type": "execute_result"
    }
   ],
   "source": [
    "def astar(start, stop):\n",
    "    open_set = {start}\n",
    "    closed_set = set()\n",
    "    g = {start: 0}\n",
    "    parents = {start: None}\n",
    "    path = []\n",
    "\n",
    "    while open_set:\n",
    "        n = None\n",
    "        for v in open_set:\n",
    "            if n is None or g[v] + heuristic(v) < g[n] + heuristic(n):\n",
    "                n = v\n",
    "\n",
    "        if n == stop:\n",
    "            while parents[n] is not None:\n",
    "                path.append(n)\n",
    "                n = parents[n]\n",
    "            path.append(start)\n",
    "            path.reverse()\n",
    "            print(f'Path found: {path}')\n",
    "            return path\n",
    "\n",
    "        open_set.remove(n)\n",
    "        closed_set.add(n)\n",
    "\n",
    "        for m, weight in get_neighbours(n):\n",
    "            if m in closed_set:\n",
    "                continue\n",
    "            tentative_g_score = g[n] + weight\n",
    "\n",
    "            if m not in open_set:\n",
    "                open_set.add(m)\n",
    "            elif tentative_g_score >= g.get(m, float('inf')):\n",
    "                continue\n",
    "\n",
    "            parents[m] = n\n",
    "            g[m] = tentative_g_score\n",
    "\n",
    "    print(\"Path doesn't exist\")\n",
    "    return None\n",
    "\n",
    "\n",
    "def get_neighbours(v):\n",
    "    if v in graph_nodes:\n",
    "        return graph_nodes[v]\n",
    "    return []\n",
    "\n",
    "def heuristic(n):\n",
    "    heuristics = {\n",
    "        'A': 10, \n",
    "        'B': 8,\n",
    "        'C': 5, \n",
    "        'D': 7, \n",
    "        'E': 3,\n",
    "        'F': 6,\n",
    "        'G': 5,\n",
    "        'H': 4,\n",
    "        'I': 1,\n",
    "        'J': 0\n",
    "    }\n",
    "    return heuristics.get(n, float('inf'))\n",
    "\n",
    "\n",
    "graph_nodes = {\n",
    "    'A': [('B', 6), ('F', 3)],\n",
    "    'B': [('C', 3), ('D', 2)],\n",
    "    'C': [('D', 1), ('E', 5)],\n",
    "    'D': [('C', 1), ('E', 8)],\n",
    "    'E': [('I', 5), ('J', 5)],\n",
    "    'F': [('G', 1), ('H', 7)],\n",
    "    'G': [('I', 3)],\n",
    "    'H': [('I', 2)],\n",
    "    'I': [('E', 5), ('J', 3)]\n",
    "}\n",
    "\n",
    "\n",
    "astar('A', 'J')\n"
   ]
  },
  {
   "cell_type": "code",
   "execution_count": null,
   "id": "91379675",
   "metadata": {},
   "outputs": [],
   "source": []
  },
  {
   "cell_type": "code",
   "execution_count": null,
   "id": "17badc35",
   "metadata": {},
   "outputs": [],
   "source": []
  }
 ],
 "metadata": {
  "kernelspec": {
   "display_name": "Python 3 (ipykernel)",
   "language": "python",
   "name": "python3"
  },
  "language_info": {
   "codemirror_mode": {
    "name": "ipython",
    "version": 3
   },
   "file_extension": ".py",
   "mimetype": "text/x-python",
   "name": "python",
   "nbconvert_exporter": "python",
   "pygments_lexer": "ipython3",
   "version": "3.9.7"
  }
 },
 "nbformat": 4,
 "nbformat_minor": 5
}
